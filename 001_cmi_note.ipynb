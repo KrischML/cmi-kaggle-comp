{
  "metadata": {
    "kernelspec": {
      "language": "python",
      "display_name": "Python 3",
      "name": "python3"
    },
    "language_info": {
      "name": "python",
      "version": "3.11.11",
      "mimetype": "text/x-python",
      "codemirror_mode": {
        "name": "ipython",
        "version": 3
      },
      "pygments_lexer": "ipython3",
      "nbconvert_exporter": "python",
      "file_extension": ".py"
    },
    "kaggle": {
      "accelerator": "none",
      "dataSources": [
        {
          "sourceId": 102335,
          "databundleVersionId": 12518947,
          "sourceType": "competition"
        }
      ],
      "dockerImageVersionId": 31040,
      "isInternetEnabled": true,
      "language": "python",
      "sourceType": "notebook",
      "isGpuEnabled": false
    },
    "colab": {
      "provenance": [],
      "include_colab_link": true
    }
  },
  "nbformat_minor": 0,
  "nbformat": 4,
  "cells": [
    {
      "cell_type": "markdown",
      "metadata": {
        "id": "view-in-github",
        "colab_type": "text"
      },
      "source": [
        "<a href=\"https://colab.research.google.com/github/KrischML/cmi-kaggle-comp/blob/main/001_cmi_note.ipynb\" target=\"_parent\"><img src=\"https://colab.research.google.com/assets/colab-badge.svg\" alt=\"Open In Colab\"/></a>"
      ]
    },
    {
      "source": [
        "# IMPORTANT: SOME KAGGLE DATA SOURCES ARE PRIVATE\n",
        "# RUN THIS CELL IN ORDER TO IMPORT YOUR KAGGLE DATA SOURCES.\n",
        "import kagglehub\n",
        "kagglehub.login()"
      ],
      "metadata": {
        "id": "OPkkD2ogCaC9"
      },
      "cell_type": "code",
      "outputs": [],
      "execution_count": null
    },
    {
      "source": [
        "# IMPORTANT: RUN THIS CELL IN ORDER TO IMPORT YOUR KAGGLE DATA SOURCES,\n",
        "# THEN FEEL FREE TO DELETE THIS CELL.\n",
        "# NOTE: THIS NOTEBOOK ENVIRONMENT DIFFERS FROM KAGGLE'S PYTHON\n",
        "# ENVIRONMENT SO THERE MAY BE MISSING LIBRARIES USED BY YOUR\n",
        "# NOTEBOOK.\n",
        "\n",
        "cmi_detect_behavior_with_sensor_data_path = kagglehub.competition_download('cmi-detect-behavior-with-sensor-data')\n",
        "\n",
        "print('Data source import complete.')"
      ],
      "metadata": {
        "id": "a1OnBE3ZCaC_"
      },
      "cell_type": "code",
      "outputs": [],
      "execution_count": null
    },
    {
      "cell_type": "code",
      "source": [
        "import os\n",
        "import pandas as pd\n",
        "import polars as pl\n",
        "import numpy as np\n",
        "\n",
        "\n",
        "import matplotlib.pyplot as plt\n",
        "import seaborn as sns\n",
        "\n",
        "\n",
        "from sklearn.preprocessing import LabelEncoder\n",
        "\n",
        "from sklearn.model_selection import train_test_split\n",
        "from sklearn.ensemble import RandomForestClassifier\n",
        "\n",
        "from sklearn.metrics import f1_score\n",
        "\n",
        "pd.set_option('display.max_rows', 1000)\n",
        "pd.set_option('display.max_columns', 1000)"
      ],
      "metadata": {
        "trusted": true,
        "execution": {
          "iopub.status.busy": "2025-05-31T07:35:38.212694Z",
          "iopub.execute_input": "2025-05-31T07:35:38.21311Z",
          "iopub.status.idle": "2025-05-31T07:35:38.218868Z",
          "shell.execute_reply.started": "2025-05-31T07:35:38.213075Z",
          "shell.execute_reply": "2025-05-31T07:35:38.217513Z"
        },
        "id": "IeujVJEPCaDF"
      },
      "outputs": [],
      "execution_count": null
    },
    {
      "cell_type": "code",
      "source": [
        "for root, dirs, files in os.walk('/'):\n",
        "    for file in files:\n",
        "        if file.endswith('.csv'):\n",
        "            print(os.path.join(root, file))"
      ],
      "metadata": {
        "collapsed": true,
        "id": "FMN-zHZoD0pY"
      },
      "execution_count": null,
      "outputs": []
    },
    {
      "cell_type": "code",
      "source": [
        "/root/.cache/kagglehub/competitions/cmi-detect-behavior-with-sensor-data/train.csv\n",
        "/root/.cache/kagglehub/competitions/cmi-detect-behavior-with-sensor-data/test_demographics.csv\n",
        "/root/.cache/kagglehub/competitions/cmi-detect-behavior-with-sensor-data/test.csv\n",
        "/root/.cache/kagglehub/competitions/cmi-detect-behavior-with-sensor-data/train_demographics.csv"
      ],
      "metadata": {
        "id": "ES2U00s6EJP5"
      },
      "execution_count": null,
      "outputs": []
    },
    {
      "cell_type": "code",
      "source": [
        "class CFG:\n",
        "\n",
        "    ip_path: str = \"/root/.cache/kagglehub/competitions/cmi-detect-behavior-with-sensor-data/\"\n",
        "\n",
        "    random_state: int = 42\n",
        "\n",
        "    LE = LabelEncoder()\n",
        "\n",
        "\n",
        "print(CFG.ip_path)"
      ],
      "metadata": {
        "trusted": true,
        "execution": {
          "iopub.status.busy": "2025-06-02T09:32:21.776633Z",
          "iopub.execute_input": "2025-06-02T09:32:21.776988Z",
          "iopub.status.idle": "2025-06-02T09:32:21.781996Z",
          "shell.execute_reply.started": "2025-06-02T09:32:21.776965Z",
          "shell.execute_reply": "2025-06-02T09:32:21.780978Z"
        },
        "id": "wFFw09wECaDI"
      },
      "outputs": [],
      "execution_count": null
    },
    {
      "cell_type": "code",
      "source": [
        "train_df = pd.read_csv(CFG.ip_path + \"train.csv\")\n",
        "train_demographics_df  = pd.read_csv(CFG.ip_path + \"train_demographics.csv\")\n",
        "\n",
        "test_df = pd.read_csv(CFG.ip_path + \"test.csv\")\n",
        "test_demographics_df = pd.read_csv(CFG.ip_path + \"test_demographics.csv\")"
      ],
      "metadata": {
        "trusted": true,
        "execution": {
          "iopub.status.busy": "2025-06-02T09:33:01.689578Z",
          "iopub.execute_input": "2025-06-02T09:33:01.689869Z",
          "iopub.status.idle": "2025-06-02T09:33:37.172063Z",
          "shell.execute_reply.started": "2025-06-02T09:33:01.689848Z",
          "shell.execute_reply": "2025-06-02T09:33:37.171091Z"
        },
        "id": "k2YxdlndCaDJ"
      },
      "outputs": [],
      "execution_count": null
    },
    {
      "cell_type": "raw",
      "source": [],
      "metadata": {
        "id": "M0aWqslyCaDM"
      }
    },
    {
      "cell_type": "code",
      "source": [
        "# Merge demographic information into the main training dataframe\n",
        "train_demo_df = train_df.merge(train_demographics_df, on=\"subject\", how=\"left\")\n",
        "\n"
      ],
      "metadata": {
        "id": "rKHvFELVIC47"
      },
      "execution_count": null,
      "outputs": []
    },
    {
      "cell_type": "code",
      "source": [
        "train_demo_df.head(2)"
      ],
      "metadata": {
        "id": "wECCKj1fK7Ed"
      },
      "execution_count": null,
      "outputs": []
    },
    {
      "cell_type": "code",
      "source": [
        "# Annahme: train_df enthält die Spalten\n",
        "df = train_demo_df.copy()\n",
        "\n",
        "df['sequence_id_encoded'] = CFG.LE.fit_transform(df['sequence_id'])\n",
        "\n",
        "\n",
        "corr_df = df[['sequence_id_encoded', 'sequence_counter']]\n",
        "\n",
        "# Korrelation berechnen\n",
        "corr = corr_df.corr()\n",
        "\n",
        "# Heatmap plotten\n",
        "plt.figure(figsize=(6, 5))\n",
        "sns.heatmap(corr, annot=True, cmap='coolwarm', center=0, fmt=\".2f\")\n",
        "plt.title(\"Korrelation: sequence_id vs. sequence_counter\")\n",
        "plt.tight_layout()\n",
        "plt.show()\n"
      ],
      "metadata": {
        "id": "TxKUqi6IMey8"
      },
      "execution_count": null,
      "outputs": []
    },
    {
      "cell_type": "code",
      "source": [
        "train_demo_df['sequence_id'].unique()\n"
      ],
      "metadata": {
        "id": "iaqjsucZLB7o"
      },
      "execution_count": null,
      "outputs": []
    },
    {
      "cell_type": "code",
      "source": [
        "\n",
        "acc_sencor_cols = [col for col in train_df.columns if any(s in col for s in ['acc_'])]\n",
        "rot_sensor_cols = [col for col in train_df.columns if any(s in col for s in ['rot_'])]\n",
        "thm_sensor_cols = [col for col in train_df.columns if any(s in col for s in ['thm_'])]\n",
        "tof_sensor_cols = [col for col in train_df.columns if any(s in col for s in ['tof_'])]\n",
        "\n",
        "thm_sensor_cols"
      ],
      "metadata": {
        "id": "zLiEiISGi52E"
      },
      "execution_count": null,
      "outputs": []
    },
    {
      "cell_type": "code",
      "source": [
        "\n",
        "\n",
        "corr_df = train_demo_df[thm_sensor_cols]\n",
        "# Korrelation berechnen\n",
        "corr = corr_df.corr()\n",
        "\n",
        "# Heatmap plotten\n",
        "plt.figure(figsize=(6, 5))\n",
        "sns.heatmap(corr, annot=True, cmap='coolwarm', center=0, fmt=\".2f\")\n",
        "plt.title(\"Korrelation: sequence_id vs. sequence_counter\")\n",
        "plt.tight_layout()\n",
        "plt.show()"
      ],
      "metadata": {
        "id": "B5Edzf62gs59"
      },
      "execution_count": null,
      "outputs": []
    },
    {
      "cell_type": "code",
      "source": [
        "all_sensor_cols = [col for col in train_df.columns if any(s in col for s in ['acc_', 'rot_', 'thm_', 'tof_'])]\n",
        "all_sensor_cols"
      ],
      "metadata": {
        "collapsed": true,
        "id": "P7biwk1egRni"
      },
      "execution_count": null,
      "outputs": []
    },
    {
      "cell_type": "code",
      "source": [
        "train_demo_df.head(2)"
      ],
      "metadata": {
        "id": "mnbV7HnhX2gB"
      },
      "execution_count": null,
      "outputs": []
    },
    {
      "cell_type": "code",
      "source": [
        "cat_columns = [col for col in train_demo_df.columns if train_demo_df[col].dtype == 'object']\n",
        "cat_columns"
      ],
      "metadata": {
        "id": "8O-RT4PpmMNj"
      },
      "execution_count": null,
      "outputs": []
    },
    {
      "cell_type": "code",
      "source": [
        "train_demo_df['thm_5'].isnull().sort_values(ascending=False)"
      ],
      "metadata": {
        "id": "BrlFUKJYhNKY"
      },
      "execution_count": null,
      "outputs": []
    },
    {
      "cell_type": "code",
      "source": [
        "# Encode gesture labels\n",
        "le = LabelEncoder()\n",
        "train['gesture_encoded'] = le.fit_transform(train['gesture'])\n",
        "\n",
        "# Features and target\n",
        "features = ['acc_x', 'acc_y', 'acc_z', 'rot_w', 'rot_x', 'rot_y', 'rot_z']\n",
        "X = train[features]\n",
        "y = train['gesture_encoded']"
      ],
      "metadata": {
        "trusted": true,
        "execution": {
          "iopub.status.busy": "2025-06-02T09:35:54.208046Z",
          "iopub.execute_input": "2025-06-02T09:35:54.208371Z",
          "iopub.status.idle": "2025-06-02T09:35:54.39578Z",
          "shell.execute_reply.started": "2025-06-02T09:35:54.208347Z",
          "shell.execute_reply": "2025-06-02T09:35:54.39483Z"
        },
        "id": "oKNiEjVTCaDN"
      },
      "outputs": [],
      "execution_count": null
    }
  ]
}